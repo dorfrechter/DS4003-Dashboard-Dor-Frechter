{
 "cells": [
  {
   "cell_type": "markdown",
   "metadata": {},
   "source": [
    "#FC Barcelona Dashboard#"
   ]
  },
  {
   "cell_type": "markdown",
   "metadata": {},
   "source": [
    "Dor Frechter\n",
    "DS4003"
   ]
  },
  {
   "cell_type": "markdown",
   "metadata": {},
   "source": [
    "MetaData:"
   ]
  },
  {
   "cell_type": "code",
   "execution_count": 1,
   "metadata": {},
   "outputs": [],
   "source": [
    "#imports\n",
    "import pandas as pd\n",
    "import seaborn as sns\n",
    "import plotly.express as px\n"
   ]
  },
  {
   "cell_type": "code",
   "execution_count": 2,
   "metadata": {},
   "outputs": [
    {
     "data": {
      "text/html": [
       "<div>\n",
       "<style scoped>\n",
       "    .dataframe tbody tr th:only-of-type {\n",
       "        vertical-align: middle;\n",
       "    }\n",
       "\n",
       "    .dataframe tbody tr th {\n",
       "        vertical-align: top;\n",
       "    }\n",
       "\n",
       "    .dataframe thead th {\n",
       "        text-align: right;\n",
       "    }\n",
       "</style>\n",
       "<table border=\"1\" class=\"dataframe\">\n",
       "  <thead>\n",
       "    <tr style=\"text-align: right;\">\n",
       "      <th></th>\n",
       "      <th>season</th>\n",
       "      <th>role</th>\n",
       "      <th>position</th>\n",
       "      <th>full_name</th>\n",
       "      <th>country</th>\n",
       "    </tr>\n",
       "  </thead>\n",
       "  <tbody>\n",
       "    <tr>\n",
       "      <th>0</th>\n",
       "      <td>2022/2023</td>\n",
       "      <td>Player</td>\n",
       "      <td>Goalkeeper</td>\n",
       "      <td>Marc-André ter Stegen</td>\n",
       "      <td>Germany</td>\n",
       "    </tr>\n",
       "    <tr>\n",
       "      <th>1</th>\n",
       "      <td>2022/2023</td>\n",
       "      <td>Player</td>\n",
       "      <td>Defender</td>\n",
       "      <td>Ronald Araújo</td>\n",
       "      <td>Uruguay</td>\n",
       "    </tr>\n",
       "    <tr>\n",
       "      <th>2</th>\n",
       "      <td>2022/2023</td>\n",
       "      <td>Player</td>\n",
       "      <td>Midfielder</td>\n",
       "      <td>Busquets</td>\n",
       "      <td>Spain</td>\n",
       "    </tr>\n",
       "    <tr>\n",
       "      <th>3</th>\n",
       "      <td>2022/2023</td>\n",
       "      <td>Player</td>\n",
       "      <td>Midfielder</td>\n",
       "      <td>Gavi</td>\n",
       "      <td>Spain</td>\n",
       "    </tr>\n",
       "    <tr>\n",
       "      <th>4</th>\n",
       "      <td>2022/2023</td>\n",
       "      <td>Player</td>\n",
       "      <td>Forward</td>\n",
       "      <td>Ousmane Dembélé</td>\n",
       "      <td>France</td>\n",
       "    </tr>\n",
       "  </tbody>\n",
       "</table>\n",
       "</div>"
      ],
      "text/plain": [
       "      season    role    position              full_name  country\n",
       "0  2022/2023  Player  Goalkeeper  Marc-André ter Stegen  Germany\n",
       "1  2022/2023  Player    Defender          Ronald Araújo  Uruguay\n",
       "2  2022/2023  Player  Midfielder               Busquets    Spain\n",
       "3  2022/2023  Player  Midfielder                   Gavi    Spain\n",
       "4  2022/2023  Player     Forward        Ousmane Dembélé   France"
      ]
     },
     "execution_count": 2,
     "metadata": {},
     "output_type": "execute_result"
    }
   ],
   "source": [
    "barca_squad_df = pd.read_csv('/Users/dor.frechter/Desktop/DS4003/Final Project/data/data.csv')\n",
    "barca_squad_df.drop(columns=['shirt_number','is_overseas','birthdate','team'], axis=1,inplace=True)\n",
    "barca_squad_df['country'] = barca_squad_df['country'].astype('string')\n",
    "barca_squad_df['position'] = barca_squad_df['position'].astype('string')\n",
    "barca_squad_df['role'] = barca_squad_df['role'].astype('string')\n",
    "barca_squad_df['full_name'] = barca_squad_df['full_name'].astype('string')\n",
    "barca_squad_df['season'] = barca_squad_df['season'].astype('string')\n",
    "barca_squad_df.head()\n"
   ]
  },
  {
   "cell_type": "code",
   "execution_count": 4,
   "metadata": {},
   "outputs": [
    {
     "data": {
      "text/html": [
       "<div>\n",
       "<style scoped>\n",
       "    .dataframe tbody tr th:only-of-type {\n",
       "        vertical-align: middle;\n",
       "    }\n",
       "\n",
       "    .dataframe tbody tr th {\n",
       "        vertical-align: top;\n",
       "    }\n",
       "\n",
       "    .dataframe thead th {\n",
       "        text-align: right;\n",
       "    }\n",
       "</style>\n",
       "<table border=\"1\" class=\"dataframe\">\n",
       "  <thead>\n",
       "    <tr style=\"text-align: right;\">\n",
       "      <th></th>\n",
       "      <th>Season</th>\n",
       "      <th>Competition</th>\n",
       "      <th>Club</th>\n",
       "      <th>Opponent</th>\n",
       "      <th>Minute</th>\n",
       "      <th>Type</th>\n",
       "      <th>Goal_assist</th>\n",
       "    </tr>\n",
       "  </thead>\n",
       "  <tbody>\n",
       "    <tr>\n",
       "      <th>0</th>\n",
       "      <td>04/05</td>\n",
       "      <td>LaLiga</td>\n",
       "      <td>FC Barcelona</td>\n",
       "      <td>Albacete Balompie</td>\n",
       "      <td>90+1</td>\n",
       "      <td>Left-footed shot</td>\n",
       "      <td>Ronaldinho Gaacho</td>\n",
       "    </tr>\n",
       "    <tr>\n",
       "      <th>1</th>\n",
       "      <td>05/06</td>\n",
       "      <td>UEFA Champions League</td>\n",
       "      <td>FC Barcelona</td>\n",
       "      <td>Panathinaikos Athens</td>\n",
       "      <td>34</td>\n",
       "      <td>Left-footed shot</td>\n",
       "      <td>&lt;NA&gt;</td>\n",
       "    </tr>\n",
       "    <tr>\n",
       "      <th>2</th>\n",
       "      <td>05/06</td>\n",
       "      <td>LaLiga</td>\n",
       "      <td>FC Barcelona</td>\n",
       "      <td>Racing Santander</td>\n",
       "      <td>51</td>\n",
       "      <td>Left-footed shot</td>\n",
       "      <td>Samuel Etoo</td>\n",
       "    </tr>\n",
       "    <tr>\n",
       "      <th>3</th>\n",
       "      <td>05/06</td>\n",
       "      <td>LaLiga</td>\n",
       "      <td>FC Barcelona</td>\n",
       "      <td>Athletic Bilbao</td>\n",
       "      <td>50</td>\n",
       "      <td>Left-footed shot</td>\n",
       "      <td>Mark van Bommel</td>\n",
       "    </tr>\n",
       "    <tr>\n",
       "      <th>4</th>\n",
       "      <td>05/06</td>\n",
       "      <td>LaLiga</td>\n",
       "      <td>FC Barcelona</td>\n",
       "      <td>Deportivo Alaves</td>\n",
       "      <td>82</td>\n",
       "      <td>Left-footed shot</td>\n",
       "      <td>Ronaldinho Gaacho</td>\n",
       "    </tr>\n",
       "  </tbody>\n",
       "</table>\n",
       "</div>"
      ],
      "text/plain": [
       "  Season            Competition          Club              Opponent Minute  \\\n",
       "0  04/05                 LaLiga  FC Barcelona     Albacete Balompie   90+1   \n",
       "1  05/06  UEFA Champions League  FC Barcelona  Panathinaikos Athens     34   \n",
       "2  05/06                 LaLiga  FC Barcelona      Racing Santander     51   \n",
       "3  05/06                 LaLiga  FC Barcelona       Athletic Bilbao     50   \n",
       "4  05/06                 LaLiga  FC Barcelona      Deportivo Alaves     82   \n",
       "\n",
       "               Type        Goal_assist  \n",
       "0  Left-footed shot  Ronaldinho Gaacho  \n",
       "1  Left-footed shot               <NA>  \n",
       "2  Left-footed shot        Samuel Etoo  \n",
       "3  Left-footed shot    Mark van Bommel  \n",
       "4  Left-footed shot  Ronaldinho Gaacho  "
      ]
     },
     "execution_count": 4,
     "metadata": {},
     "output_type": "execute_result"
    }
   ],
   "source": [
    "messi_goals_df = pd.read_csv('/Users/dor.frechter/Desktop/DS4003/Final Project/data/data1.csv')\n",
    "messi_goals_df.drop('Playing_Position', axis=1, inplace=True)\n",
    "messi_goals_df.drop('Matchday', axis=1, inplace=True)\n",
    "messi_goals_df.drop('Date', axis=1, inplace=True)\n",
    "messi_goals_df.drop('Venue', axis=1, inplace=True)\n",
    "messi_goals_df.drop('At_score', axis=1, inplace=True)\n",
    "messi_goals_df.drop('Result', axis=1, inplace=True)\n",
    "messi_goals_df['Season'] = messi_goals_df['Season'].astype('string')\n",
    "messi_goals_df['Competition'] = messi_goals_df['Competition'].astype('string')\n",
    "messi_goals_df['Club'] = messi_goals_df['Club'].astype('string')\n",
    "messi_goals_df['Type'] = messi_goals_df['Type'].astype('string')\n",
    "messi_goals_df['Goal_assist'] = messi_goals_df['Goal_assist'].astype('string')\n",
    "messi_goals_df['Opponent'] = messi_goals_df['Opponent'].astype('string')\n",
    "messi_goals_df['Minute'] = messi_goals_df['Minute'].astype('string')\n",
    "messi_goals_df.head()"
   ]
  },
  {
   "cell_type": "markdown",
   "metadata": {},
   "source": [
    "The data I got was already pretty clean, and I only had to make slight tweaks. I would like to keep the rest as I currently want to display most of it, but will likely narrow it down as I get more of the dashboard done. "
   ]
  },
  {
   "cell_type": "markdown",
   "metadata": {},
   "source": [
    "I have two data sets, the first one has all players and coaching staff that played or worked for barcelona since the 1990-1991 season to last season 2022-2023. It has 2781 values of each player and choaching staff in those seasons. It has 5 categorical columns describing the season, role, position, country, and full-name of each of those. There is no missing data in this table."
   ]
  },
  {
   "cell_type": "markdown",
   "metadata": {},
   "source": [
    "The Second dataset is centered around the greatest player of all time, and Barcelona's top scorer and appearance maker, Lionel Messi. It has all 704 of his goals for Barcelona and PSG up until the 2022-2023 season. THere are 7 categories, as I want to showcase different aspects of his goals, like top assitors, his favorite way to score, his favorite club to score against... The categories are: Season, Competition, Club, Opponent, Minute, Type of goal, and the assistor. There is missing data only in the assistor column (besides one type of goal that fell into non of the categories). However, those values are actually significant as they show us the number of goals messi created for himself without any assitors."
   ]
  },
  {
   "cell_type": "markdown",
   "metadata": {},
   "source": [
    "First dataset describing the players and coaching staff of FC Barcelona from 1990-2023"
   ]
  },
  {
   "cell_type": "markdown",
   "metadata": {},
   "source": [
    "| # | Column | Count | Tyoe| Description | \n",
    "|----------|----------|----------|----------|----------|\n",
    "| 0 | Season| 2781| string| Represents a time period between August of one year and June of the next year when soccer games are played. Format is \"2008/2009\" |\n",
    "| 1   | Role   | 2781  | string     | The role someone took in a team for that season, player or coaching staff   |\n",
    "| 2   | Position   | 2781    | string     |  The specific position played by each player (defender, midfield...) or the staff (manager, goalkeeping coach...)   |\n",
    "| 3   | Full Name   | 2781    | string     |  The full name of the player or staff   |\n",
    "| 4   | Country    | 2781     | string    | The country the player or staff member is from    |"
   ]
  },
  {
   "cell_type": "markdown",
   "metadata": {},
   "source": [
    "print('Data dictionary for Messi goals:')\n",
    "messi_goals_df.info()"
   ]
  },
  {
   "cell_type": "markdown",
   "metadata": {},
   "source": [
    "|# | Column | Count | Type | Description |\n",
    "|----------|----------|----------|----------|----------|\n",
    "| 0  | Season    | 704    |  string     |  Represents a time period between August of one year and June of the next year when soccer games are played. Format is \"2008/2009\"  |\n",
    "| 1  | Competition    | 704    | string    | The name of the competition the goal was scored in (la liga, Champions League...)   |\n",
    "| 2    | Club     | 704    | string    | The club Messi played for when he scored the goal (Barcelona, PSG)    |\n",
    "| 3   | Opponent     | 704    |  string    |  The opponent club the goal was scored against   |\n",
    "| 4   | Minute     | 704     | string    | The minute of the game the goal was scored in.    |\n",
    "| 5  | Goal Type   | 704    | Data     | The way Messi scored that goal (left foot, right foot, header...)    |\n",
    "| 6  | Goal Assist    | 490     | string   | The name of the player that assisted the goal    |"
   ]
  },
  {
   "cell_type": "markdown",
   "metadata": {},
   "source": [
    "Here are some UI compopnents I plan on using:\n",
    "Firstly, I want to hava a navbar at the top of the page to help the user easily navigate to different sections of the website. I will probably have a page dedicated for the whole team and a page dedicated for messi, so a navbar at the top and bottom of the page will make for easy access to different sections. I want the website to be color-coded with the Barcelon colors. One data visualization option I could have is a bar graph representing how many goals messi scored against different opponents. The user will have a dropdown where he can select multiple opponents and they will appear on the barchart. This will give a clean showcase of how messi's goals stacked up against different opponents. The opponents will be on the x axis, and goals on the y. I will likely make a similar thing to his assitors. Additionally I will add a line graph to show how his goals stacked up over the years. The x axis will be time (increasing by margins of a season), and the y axis will be the total goals he scored throughout his career. When hovering over points, you could see the individual date and how many goals were cored on that date and the total goals scored up until then. There can be a range slider to decide on the amount of years that would be shown on the x axis. I could also make a pie chart to show the distribution of the type of goal he scored (left foot, right foot, header, volley, chest...) I would also like to have graphics for both the team and for messi for the amount of trophies they won with an image of the trophy and a count below it."
   ]
  }
 ],
 "metadata": {
  "kernelspec": {
   "display_name": "ds4003",
   "language": "python",
   "name": "python3"
  },
  "language_info": {
   "codemirror_mode": {
    "name": "ipython",
    "version": 3
   },
   "file_extension": ".py",
   "mimetype": "text/x-python",
   "name": "python",
   "nbconvert_exporter": "python",
   "pygments_lexer": "ipython3",
   "version": "3.8.18"
  }
 },
 "nbformat": 4,
 "nbformat_minor": 2
}
